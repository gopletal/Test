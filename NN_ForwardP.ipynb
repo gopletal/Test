{
 "cells": [
  {
   "cell_type": "code",
   "execution_count": 2,
   "metadata": {},
   "outputs": [
    {
     "name": "stdout",
     "output_type": "stream",
     "text": [
      "Step: 0000   Error: 0.5172082754380926\n",
      "Step: 1000   Error: 0.026070259693142646\n",
      "Step: 2000   Error: 0.0181554678525527\n",
      "Step: 3000   Error: 0.014723482568835052\n",
      "Step: 4000   Error: 0.012699314779145614\n",
      "Step: 5000   Error: 0.011327232073339398\n",
      "Step: 6000   Error: 0.010319216334688502\n",
      "Step: 7000   Error: 0.009538603095349355\n",
      "Step: 8000   Error: 0.00891115763147092\n",
      "Step: 9000   Error: 0.008392641900637663\n",
      "\n",
      "Output after training\n",
      "[[0.00966449]\n",
      " [0.00786506]\n",
      " [0.99358898]\n",
      " [0.99211957]]\n"
     ]
    }
   ],
   "source": [
    "# SIMPLE NN FORWARD PROPAGATION\n",
    "# (3 inputs nodes(l0),1 ouput node(l1)\n",
    "# 4 training sets, full batch training)\n",
    "#\n",
    "#  l0(input)      w0(weight1)      l1(Output)\n",
    "#     l01           l01-l11\n",
    "#                     \n",
    "#     l02           l02_l11           l11   \n",
    "#                     \n",
    "#     l03           l03-l11\n",
    "#\n",
    "#\n",
    "\n",
    "import numpy as np\n",
    "\n",
    "#Sigmoid function\n",
    "def sigmoid(x):\n",
    "    return 1/(1+np.exp(-x))    \n",
    "\n",
    "#Sigmoid derivative (could be sped up dx(sigmoid)=sigmoid*(1-sigmoid))\n",
    "def sigmoid_dervative(x):\n",
    "    return (1/(1+np.exp(-x))) * (1-(1/(1+np.exp(-x))))\n",
    "\n",
    "\n",
    "#input dataset \n",
    "data_in  = np.array([[0,0,1],[0,1,1],[1,0,1],[1,1,1]])\n",
    "\n",
    "#output datset \n",
    "data_out = np.array([[0],[0],[1],[1]]) \n",
    " \n",
    "#seed radom numbers \n",
    "np.random.seed(1)\n",
    "\n",
    "#initialize weights randomly between -1 and 1 with mean 0\n",
    "w0 = 2*np.random.random((3,1)) - 1     #3 l0 nodes to 1 l1 node\n",
    "\n",
    "for loop in range(10000):\n",
    "\n",
    "    #forward propagation\n",
    "    l0 = data_in\n",
    "    l1 = sigmoid(np.dot(l0,w0))\n",
    "\n",
    "    #difference between last layer and data (4 X 1 matrix)\n",
    "    l1_error = data_out - l1\n",
    "\n",
    "    #multiply difference by the slope of the sigmoid at the values in l1\n",
    "    l1_delta = l1_error * sigmoid_dervative(np.dot(l0,w0)) \n",
    "\n",
    "    #update weights\n",
    "    w0 += np.dot(l0.T,l1_delta)\n",
    "\n",
    "    #write out error   \n",
    "    if(loop% 1000) == 0:\n",
    "       print(\"Step: \"+str(loop).zfill(4)+ \"   Error: \"+str(np.mean(np.abs(l1_error)))) \n",
    "\n",
    "\n",
    "print (\"\\n\"+\"Output after training\")\n",
    "print (l1)"
   ]
  },
  {
   "cell_type": "code",
   "execution_count": null,
   "metadata": {},
   "outputs": [],
   "source": []
  }
 ],
 "metadata": {
  "kernelspec": {
   "display_name": "Python 3",
   "language": "python",
   "name": "python3"
  },
  "language_info": {
   "codemirror_mode": {
    "name": "ipython",
    "version": 3
   },
   "file_extension": ".py",
   "mimetype": "text/x-python",
   "name": "python",
   "nbconvert_exporter": "python",
   "pygments_lexer": "ipython3",
   "version": "3.7.3"
  }
 },
 "nbformat": 4,
 "nbformat_minor": 2
}
